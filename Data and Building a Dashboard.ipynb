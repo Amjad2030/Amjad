{
 "cells": [
  {
   "cell_type": "markdown",
   "id": "7ee9805b-c3f1-4ef6-8ab0-ea9a0a9eccdc",
   "metadata": {},
   "source": [
    "<center>\n",
    "    <img src=\"https://cf-courses-data.s3.us.cloud-object-storage.appdomain.cloud/IBMDeveloperSkillsNetwork-PY0220EN-SkillsNetwork/labs/project/Images/SN_logo.png\" width=\"300\" alt=\"cognitiveclass.ai logo\">\n",
    "</center>\n"
   ]
  },
  {
   "cell_type": "markdown",
   "id": "17ece4a4-1d01-4775-812d-40eb7850ce44",
   "metadata": {},
   "source": [
    "<h1>Extracting and Visualizing Stock Data<h1>\n",
    "    <h1>Description<h1>\n",
    "        <p>Extracting essential data from a dataset and displaying it is a necessary part of data science; therefore individuals can make correct decisions based on the data. In this project, I will extract some stock data, I will then display this data in a graph.<p>"
   ]
  },
  {
   "cell_type": "code",
   "execution_count": 1,
   "id": "b0755780-9af8-437d-8de2-2f67a2ee5853",
   "metadata": {},
   "outputs": [],
   "source": [
    "#!pip install yfinance\n",
    "#!pip install pandas\n",
    "#!pip install requests\n",
    "#!pip install bs4\n",
    "#!pip install plotly"
   ]
  },
  {
   "cell_type": "markdown",
   "id": "25aaf7ca-752e-4d2d-9a14-4d0150a16221",
   "metadata": {},
   "source": [
    "<p>You will require the following libraries:<p>"
   ]
  },
  {
   "cell_type": "code",
   "execution_count": null,
   "id": "cc676c09-a54a-43f2-a4bc-601f0ffec965",
   "metadata": {},
   "outputs": [],
   "source": [
    "import pandas as pd\n",
    "import yfinance as yf\n",
    "import numpy as np\n",
    "import requests\n",
    "from bs4 import BeautifulSoup\n",
    "import matplotlib.pyplot as plt\n",
    "%matplotlib inline"
   ]
  },
  {
   "cell_type": "markdown",
   "id": "0118817f-99b8-4870-aed5-19091e104ef9",
   "metadata": {},
   "source": [
    "<h1>Question 1: Use yfinance to Extract Tesla Stock Data<h1>"
   ]
  },
  {
   "cell_type": "code",
   "execution_count": null,
   "id": "62631617-3f95-4ab4-9e22-c893e4a87485",
   "metadata": {},
   "outputs": [],
   "source": [
    "tesla = yf.Ticker(\"TSLA\")"
   ]
  },
  {
   "cell_type": "code",
   "execution_count": null,
   "id": "d1a3687f-db10-478a-9bff-48487e25998c",
   "metadata": {},
   "outputs": [],
   "source": [
    "tesla_data = tesla.history(period=\"max\")"
   ]
  },
  {
   "cell_type": "code",
   "execution_count": null,
   "id": "dff0bdcc-d08c-4446-949a-59b0e8752000",
   "metadata": {},
   "outputs": [],
   "source": [
    "tesla_data.reset_index(inplace=True)\n",
    "tesla_data.head()"
   ]
  },
  {
   "cell_type": "markdown",
   "id": "3ef73c75-6cc6-4d5a-b146-544aa6226b04",
   "metadata": {},
   "source": [
    "<h1>Question 2: Use Webscraping to Extract Tesla Revenue Data<h1>"
   ]
  },
  {
   "cell_type": "code",
   "execution_count": null,
   "id": "66e6398f-cd8d-4882-b023-1d3bb0bfbacd",
   "metadata": {},
   "outputs": [],
   "source": [
    "url = \"https://www.macrotrends.net/stocks/charts/TSLA/tesla/revenue\""
   ]
  },
  {
   "cell_type": "code",
   "execution_count": null,
   "id": "cc8c473e-350e-4c3a-abb2-6fe96412223e",
   "metadata": {},
   "outputs": [],
   "source": [
    "html_data = requests.get(url).text"
   ]
  },
  {
   "cell_type": "code",
   "execution_count": null,
   "id": "1f6c4296-b240-4de0-b3eb-d0efd692354d",
   "metadata": {},
   "outputs": [],
   "source": [
    "soup = BeautifulSoup(html_data, \"html.parser\")\n",
    "soup.find_all('title')"
   ]
  },
  {
   "cell_type": "code",
   "execution_count": null,
   "id": "8329e004-d091-4ada-880d-6b56b0f70587",
   "metadata": {},
   "outputs": [],
   "source": [
    "tesla_revenue = pd.DataFrame(columns = ['Date', 'Revenue'])\n",
    "\n",
    "for row in soup.find_all(\"tbody\")[1].find_all(\"tr\"):\n",
    "    col = row.find_all(\"td\")\n",
    "    date = col[0].text\n",
    "    revenue = col[1].text.replace(\"$\", \"\").replace(\",\", \"\")\n",
    "    \n",
    "    tesla_revenue = tesla_revenue.append({\"Date\": date, \"Revenue\": revenue}, ignore_index = True)"
   ]
  },
  {
   "cell_type": "code",
   "execution_count": null,
   "id": "8e49cdcc-fa22-4a26-a289-24ca5d7ecc7f",
   "metadata": {},
   "outputs": [],
   "source": [
    "tesla_revenue.dropna(inplace=True)\n",
    "tesla_revenue = tesla_revenue[tesla_revenue['Revenue'] != \"\"]"
   ]
  },
  {
   "cell_type": "code",
   "execution_count": null,
   "id": "2ff5a7aa-8ae0-47e9-9d74-b9b6cd11225f",
   "metadata": {},
   "outputs": [],
   "source": [
    "tesla_revenue.tail()"
   ]
  },
  {
   "cell_type": "markdown",
   "id": "bb914cc2-2303-4f50-845d-67edfaaef7cd",
   "metadata": {},
   "source": [
    "<h1>Question 3: Use yfinance to Extract GME Stock Data<h1>"
   ]
  },
  {
   "cell_type": "code",
   "execution_count": null,
   "id": "47d706d7-05fe-4249-ae65-52bf3de2a0a9",
   "metadata": {},
   "outputs": [],
   "source": [
    "gamestop = yf.Ticker(\"GME\")"
   ]
  },
  {
   "cell_type": "code",
   "execution_count": null,
   "id": "08dca8bd-d512-4a39-839b-5b7e1068e4fa",
   "metadata": {},
   "outputs": [],
   "source": [
    "gamestop_data = gamestop.history(period=\"max\")"
   ]
  },
  {
   "cell_type": "code",
   "execution_count": null,
   "id": "2192f41c-e33e-4ab3-9bf3-2df354a8f399",
   "metadata": {},
   "outputs": [],
   "source": [
    "gamestop_data.reset_index(inplace=True)\n",
    "gamestop_data.head()"
   ]
  },
  {
   "cell_type": "markdown",
   "id": "dd4e9d61-58c2-4f7b-a3ba-9722ed1bbc2a",
   "metadata": {},
   "source": [
    "<h1>Question 4: Use Webscraping to Extract GME Revenue Data<h1>"
   ]
  },
  {
   "cell_type": "code",
   "execution_count": null,
   "id": "358c172f-1b2f-47d1-8f17-9cf4be1b294b",
   "metadata": {},
   "outputs": [],
   "source": [
    "url1 = \"https://www.macrotrends.net/stocks/charts/GME/gamestop/revenue\""
   ]
  },
  {
   "cell_type": "code",
   "execution_count": null,
   "id": "f46b2eb2-d9ab-41c1-9b70-c57201275259",
   "metadata": {},
   "outputs": [],
   "source": [
    "html_data = requests.get(url1).text"
   ]
  },
  {
   "cell_type": "code",
   "execution_count": null,
   "id": "2e5f3f36-0d72-4938-b817-bd920222cc2d",
   "metadata": {},
   "outputs": [],
   "source": [
    "soup = BeautifulSoup(html_data, \"html.parser\")\n",
    "soup.find_all('title')"
   ]
  },
  {
   "cell_type": "code",
   "execution_count": null,
   "id": "db9b20aa-f358-44c3-9525-8e8ae0293f9f",
   "metadata": {},
   "outputs": [],
   "source": [
    "gme_revenue = pd.DataFrame(columns=['Date', 'Revenue'])\n",
    "\n",
    "for table in soup.find_all('table'):\n",
    "\n",
    "    if ('GameStop Quarterly Revenue' in table.find('th').text):\n",
    "        rows = table.find_all('tr')\n",
    "        \n",
    "        for row in rows:\n",
    "            col = row.find_all('td')\n",
    "            \n",
    "            if col != []:\n",
    "                date = col[0].text\n",
    "                revenue = col[1].text.replace(',','').replace('$','')\n",
    "\n",
    "                gme_revenue = gme_revenue.append({\"Date\":date, \"Revenue\":revenue}, ignore_index=True)"
   ]
  },
  {
   "cell_type": "code",
   "execution_count": null,
   "id": "30d9e82f-d42c-4a56-ac2c-77fb67bfb920",
   "metadata": {},
   "outputs": [],
   "source": [
    "gme_revenue.tail()"
   ]
  },
  {
   "cell_type": "markdown",
   "id": "639207c2-2c06-4ec2-b68d-2f8aef6d4326",
   "metadata": {},
   "source": [
    "<h1>Question 5: Plot Tesla Stock Graph<h1>"
   ]
  },
  {
   "cell_type": "code",
   "execution_count": null,
   "id": "3f9ae488-126e-4c0b-9c92-e0f3e904b79d",
   "metadata": {},
   "outputs": [],
   "source": [
    "import plotly.graph_objects as go\n",
    "from plotly.subplots import make_subplots"
   ]
  },
  {
   "cell_type": "code",
   "execution_count": null,
   "id": "33fc9d8d-076f-4245-b114-5ac427ec73c8",
   "metadata": {},
   "outputs": [],
   "source": [
    "def make_graph(stock_data, revenue_data, stock):\n",
    "    fig = make_subplots(rows=2, cols=1, shared_xaxes=True, subplot_titles=(\"Historical Share Price\", \"Historical Revenue\"), vertical_spacing = .3)\n",
    "    fig.add_trace(go.Scatter(x=pd.to_datetime(stock_data.Date, infer_datetime_format=True), y=stock_data.Close.astype(\"float\"), name=\"Share Price\"), row=1, col=1)\n",
    "    fig.add_trace(go.Scatter(x=pd.to_datetime(revenue_data.Date, infer_datetime_format=True), y=revenue_data.Revenue.astype(\"float\"), name=\"Revenue\"), row=2, col=1)\n",
    "    fig.update_xaxes(title_text=\"Date\", row=1, col=1)\n",
    "    fig.update_xaxes(title_text=\"Date\", row=2, col=1)\n",
    "    fig.update_yaxes(title_text=\"Price ($US)\", row=1, col=1)\n",
    "    fig.update_yaxes(title_text=\"Revenue ($US Millions)\", row=2, col=1)\n",
    "    fig.update_layout(showlegend=False,\n",
    "    height=900,\n",
    "    title=stock,\n",
    "    xaxis_rangeslider_visible=True)\n",
    "    fig.show()"
   ]
  },
  {
   "cell_type": "code",
   "execution_count": null,
   "id": "ca10bee0-eece-4635-bb4c-806ad8f9bb9d",
   "metadata": {},
   "outputs": [],
   "source": [
    "make_graph(tesla_data, tesla_revenue, 'Tesla')"
   ]
  },
  {
   "cell_type": "markdown",
   "id": "72b98cf6-1cc9-4d9e-949e-61e26f3d2c49",
   "metadata": {},
   "source": [
    "<h1>Question 6: Plot GameStop Stock Graph<h1>"
   ]
  },
  {
   "cell_type": "code",
   "execution_count": null,
   "id": "62267384-1b3d-494a-8990-03d54ee56741",
   "metadata": {},
   "outputs": [],
   "source": [
    "make_graph(gamestop_data, gme_revenue, 'GameStop')"
   ]
  },
  {
   "cell_type": "code",
   "execution_count": null,
   "id": "640cb46d-9ca2-4d92-ba0c-fdcd592bad7f",
   "metadata": {},
   "outputs": [],
   "source": [
    "print(\"Completed\")"
   ]
  }
 ],
 "metadata": {
  "kernelspec": {
   "display_name": "Python",
   "language": "python",
   "name": "conda-env-python-py"
  },
  "language_info": {
   "codemirror_mode": {
    "name": "ipython",
    "version": 3
   },
   "file_extension": ".py",
   "mimetype": "text/x-python",
   "name": "python",
   "nbconvert_exporter": "python",
   "pygments_lexer": "ipython3",
   "version": "3.7.12"
  }
 },
 "nbformat": 4,
 "nbformat_minor": 5
}
