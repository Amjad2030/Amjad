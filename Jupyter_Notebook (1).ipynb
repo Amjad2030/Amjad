{
 "cells": [
  {
   "cell_type": "markdown",
   "metadata": {},
   "source": [
    "<center>\n",
    "    <img src=\"https://cf-courses-data.s3.us.cloud-object-storage.appdomain.cloud/IBMDeveloperSkillsNetwork-DS0105EN-SkillsNetwork/labs/Module2/images/SN_web_lightmode.png\" width=\"300\" alt=\"cognitiveclass.ai logo\">\n",
    "</center>\n"
   ]
  },
  {
   "cell_type": "markdown",
   "metadata": {},
   "source": [
    "# Title of the Notebook\n",
    "\n",
    "This notebook is all about data science and its tools."
   ]
  },
  {
   "cell_type": "markdown",
   "metadata": {},
   "source": [
    "## Introduction\n",
    "\n",
    "Data science is a field that involves the extraction of insights from data. It involves various techniques and tools to analyze, process, and visualize data. In this notebook, we will explore some of the popular data science languages, libraries, and tools.\n"
   ]
  },
  {
   "cell_type": "markdown",
   "metadata": {},
   "source": [
    "## Data Science Languages\n",
    "\n",
    "- Python\n",
    "- R\n",
    "- SQL\n",
    "- Java\n",
    "- Julia"
   ]
  },
  {
   "cell_type": "markdown",
   "metadata": {},
   "source": [
    "## Data Science Libraries\n",
    "\n",
    "- NumPy\n",
    "- Pandas\n",
    "- Matplotlib\n",
    "- Seaborn\n",
    "- Scikit-Learn "
   ]
  },
  {
   "cell_type": "markdown",
   "metadata": {},
   "source": [
    "## Data Science Tools Table\n",
    "\n",
    "| Tool        | Description           | \n",
    "| ------------- |:-------------:| \n",
    "| Jupyter Notebook      | An open-source web application that allows you to create and share documents containing live code, equations, visualizations, and narrative text. | \n",
    "| Tableau      | A powerful data visualization tool that helps you to see and understand your data.      |  \n",
    "| Apache Hadoop | An open-source software framework used for distributed storage and processing of big data using the MapReduce programming model.     |\n",
    "| Apache Spark | An open-source distributed computing system used for big data processing.     |\n",
    "| TensorFlow | An open-source machine learning framework developed by Google Brain Team.     |"
   ]
  },
  {
   "cell_type": "markdown",
   "metadata": {},
   "source": [
    "## Arithmetic Expression Examples\n",
    "\n",
    "Arithmetic expressions are mathematical operations that involve numbers and operators such as addition (+), subtraction (-), multiplication (*), division (/), etc."
   ]
  },
  {
   "cell_type": "code",
   "execution_count": 1,
   "metadata": {},
   "outputs": [
    {
     "name": "stdout",
     "output_type": "stream",
     "text": [
      "52\n"
     ]
    }
   ],
   "source": [
    "# Multiplication and Addition Example:\n",
    "\n",
    "a = 5\n",
    "b = 10\n",
    "c = a * b + 2\n",
    "print(c)"
   ]
  },
  {
   "cell_type": "code",
   "execution_count": 2,
   "metadata": {},
   "outputs": [
    {
     "name": "stdout",
     "output_type": "stream",
     "text": [
      "2.0\n"
     ]
    }
   ],
   "source": [
    "### Conversion of Minutes to Hours Example:\n",
    "\n",
    "minutes = 120 # number of minutes to convert into hours\n",
    "hours = minutes / 60 # formula for converting minutes into hours\n",
    "print(hours)\n"
   ]
  },
  {
   "cell_type": "markdown",
   "metadata": {},
   "source": [
    "## Objectives\n",
    "\n",
    "The objectives of this notebook are:\n",
    "\n",
    "1. To introduce different data science languages.\n",
    "2. To explore popular data science libraries.\n",
    "3. To provide an overview of various data science tools.\n",
    "4. To demonstrate arithmetic expression examples."
   ]
  },
  {
   "cell_type": "markdown",
   "metadata": {},
   "source": [
    "## Author's Name\n",
    "\n",
    "This notebook is created by Amjad Mohammed. \n"
   ]
  }
 ],
 "metadata": {
  "kernelspec": {
   "display_name": "Python",
   "language": "python",
   "name": "conda-env-python-py"
  },
  "language_info": {
   "codemirror_mode": {
    "name": "ipython",
    "version": 3
   },
   "file_extension": ".py",
   "mimetype": "text/x-python",
   "name": "python",
   "nbconvert_exporter": "python",
   "pygments_lexer": "ipython3",
   "version": "3.7.12"
  }
 },
 "nbformat": 4,
 "nbformat_minor": 4
}
